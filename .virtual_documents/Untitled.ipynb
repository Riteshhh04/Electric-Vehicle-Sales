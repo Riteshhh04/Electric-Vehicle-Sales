!pip install prophet pandas matplotlib



import pandas as pd
import matplotlib.pyplot as plt
from prophet import Prophet



python.exe -m pip install --upgrade pip


# Load your file
df = pd.read_csv("Cleaned_Electric_Vehicle_Sales.csv")

# Preview first few rows
df.head()



df.columns




# Cap extreme sales values
df['EV_Sales_Quantity'] = df['EV_Sales_Quantity'].clip(upper=df['EV_Sales_Quantity'].quantile(0.99))



# Convert to datetime
df['Date'] = pd.to_datetime(df['Date'])

# Group by month and sum sales
monthly_df = df.groupby(pd.Grouper(key='Date', freq='ME'))['EV_Sales_Quantity'].sum().reset_index()


# Rename for Prophet
monthly_df = monthly_df.rename(columns={"Date": "ds", "EV_Sales_Quantity": "y"})

# Preview
monthly_df.head()



model = Prophet()
model.fit(monthly_df)



# Create future dates
future = model.make_future_dataframe(periods=12, freq='ME')

# Make forecast
forecast = model.predict(future)

# View forecasted sales
forecast[['ds', 'yhat', 'yhat_lower', 'yhat_upper']].tail()



fig = model.plot(forecast)
plt.title("EV Sales Forecast")
plt.xlabel("Month")
plt.ylabel("Predicted Sales")
plt.grid(True)
plt.show()



# Select necessary columns
forecast[['ds', 'yhat']].rename(columns={"ds": "Date", "yhat": "Predicted_EV_Sales"}).to_csv("ev_forecast.csv", index=False)


# Round off predictions
result['Predicted_EV_Sales'] = result['Predicted_EV_Sales'].round()

# Save to CSV
result.to_csv("ev_sales_forecast.csv", index=False)



df.head()


forecast[['ds', 'yhat']].rename(columns={"ds": "Date", "yhat": "Predicted_EV_Sales"}).to_csv("ev_forecast.csv", index=False)




