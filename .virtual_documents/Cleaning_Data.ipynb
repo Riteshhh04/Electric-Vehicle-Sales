import pandas as pd

# Load the CSV file (change the path if needed)
df = pd.read_csv("Electric Vehicle Sales by State in India.csv")

# View first few rows (optional)
df.head()



# Convert from MM-DD-YYYY to DD-MM-YYYY
df['Date'] = pd.to_datetime(df['Date'], format='%m-%d-%Y').dt.strftime('%d-%m-%Y')


df.head()


# Define a function to assign Region based on State
def get_region(state):
    south = ["Andhra Pradesh", "Karnataka", "Kerala", "Tamil Nadu", "Telangana"]
    west = ["Maharashtra", "Gujarat", "Rajasthan", "Goa"]
    north = ["Delhi", "Punjab", "Haryana", "Uttar Pradesh", "Himachal Pradesh", 
             "Chandigarh", "Ladakh", "Jammu and Kashmir", "Uttarakhand"]
    east = ["Bihar", "Odisha", "Jharkhand", "West Bengal"]
    central = ["Madhya Pradesh", "Chhattisgarh"]
    north_east = ["Assam", "Arunachal Pradesh", "Manipur", "Meghalaya", 
                  "Mizoram", "Nagaland", "Sikkim", "Tripura"]
    union_territory = ["Andaman & Nicobar Island", "DNH and DD", "Puducherry"]

    # Return region based on the state name
    if state in south:
        return "South"
    elif state in west:
        return "West"
    elif state in north:
        return "North"
    elif state in east:
        return "East"
    elif state in central:
        return "Central"
    elif state in north_east:
        return "North East"
    elif state in union_territory:
        return "Union Territory"
    else:
        return "Other"


# Apply the function to create a new 'Region' column
df['Region'] = df['State'].apply(get_region)


df.head()



#Add EV_Sales_Flag column
# If EV_Sales_Quantity is greater than 0, then 1; else 0
df['EV_Sales_Flag'] = df['EV_Sales_Quantity'].apply(lambda x: 1 if x > 0 else 0)


df.head()


# Add Vehicle_Segment column based on Vehicle_Type

def get_vehicle_segment(vtype):
    if isinstance(vtype, str):  # Ensure value is a string before checking
        if vtype.startswith("2W"):
            return "2W"
        elif vtype.startswith("3W"):
            return "3W"
        elif vtype.startswith("4W"):
            return "4W"
        elif vtype in ["Bus", "Institution Bus"]:
            return "Bus"
    return "Others"

df['Vehicle_Segment'] = df['Vehicle_Type'].apply(get_vehicle_segment)


df.head()



# Step 8: Add EV_Category column based on Vehicle_Type

def get_ev_category(vtype):
    if isinstance(vtype, str):
        if "Personal" in vtype:
            return "Personal"
        elif "Shared" in vtype:
            return "Shared"
        elif "Goods" in vtype:
            return "Goods"
        elif vtype == "Institution Bus":
            return "Institution"
        elif vtype == "Bus":
            return "Bus"
    return "Others"

df['EV_Category'] = df['Vehicle_Type'].apply(get_ev_category)


df.head()


# Remove Month_Name Column Because we will create Custom Calendar for this Project

df.drop(columns=['Month_Name'], inplace=True)




df.head()



# Remove Year Column also with same Reason

df.drop(columns=['Year'], inplace=True)



df.head()


# Save the updated DataFrame to a CSV file
df.to_csv("Cleaned_Electric_Vehicle_Sales.csv", index=False)



