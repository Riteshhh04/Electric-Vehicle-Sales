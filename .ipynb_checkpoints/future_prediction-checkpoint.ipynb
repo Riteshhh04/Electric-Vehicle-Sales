{
 "cells": [
  {
   "cell_type": "code",
   "execution_count": null,
   "id": "f1c79b3b-a751-4c7b-b8ae-0bd7af9aa8a1",
   "metadata": {},
   "outputs": [],
   "source": []
  }
 ],
 "metadata": {
  "kernelspec": {
   "display_name": "Python [conda env:base] *",
   "language": "python",
   "name": "conda-base-py"
  },
  "language_info": {
   "codemirror_mode": {
    "name": "ipython",
    "version": 3
   },
   "file_extension": ".py",
   "mimetype": "text/x-python",
   "name": "python",
   "nbconvert_exporter": "python",
   "pygments_lexer": "ipython3",
   "version": "3.12.7"
  }
 },
 "nbformat": 4,
 "nbformat_minor": 5
}
